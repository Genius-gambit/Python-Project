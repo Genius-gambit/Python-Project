{
 "cells": [
  {
   "cell_type": "code",
   "execution_count": 1,
   "id": "99986171-4d89-4612-b68f-d60301d5fbb3",
   "metadata": {},
   "outputs": [],
   "source": [
    "import pandas as pd"
   ]
  },
  {
   "cell_type": "code",
   "execution_count": 2,
   "id": "1369e90b-b6d7-44dd-b7bf-bb83adcce303",
   "metadata": {},
   "outputs": [],
   "source": [
    "df = pd.read_csv('data.csv')"
   ]
  },
  {
   "cell_type": "code",
   "execution_count": 3,
   "id": "40393810-6dce-426b-915e-7c986788284d",
   "metadata": {},
   "outputs": [
    {
     "name": "stdout",
     "output_type": "stream",
     "text": [
      "    Unnamed: 0                           Unnamed: 1                           Unnamed: 2                           Unnamed: 3                           Unnamed: 4\n",
      "0          NaN                                    1                                    2                                    3                                    4\n",
      "1          NaN                                    N                                    W                                    S                                    E\n",
      "2        Angle                           [225, 315)                           [135, 225)                            [45, 135)                [0, 45) && [315, 360)\n",
      "3  Calculation  change in y decreases, x tends to 0  change in x decreases, y tends to 0  change in y increases, x tends to 0  change in x increases, y tends to 0\n"
     ]
    }
   ],
   "source": [
    "print(df.to_string())"
   ]
  },
  {
   "cell_type": "code",
   "execution_count": null,
   "id": "71db2303-99d3-446d-b559-122597667881",
   "metadata": {},
   "outputs": [],
   "source": []
  }
 ],
 "metadata": {
  "kernelspec": {
   "display_name": "Python 3 (ipykernel)",
   "language": "python",
   "name": "python3"
  },
  "language_info": {
   "codemirror_mode": {
    "name": "ipython",
    "version": 3
   },
   "file_extension": ".py",
   "mimetype": "text/x-python",
   "name": "python",
   "nbconvert_exporter": "python",
   "pygments_lexer": "ipython3",
   "version": "3.8.10"
  }
 },
 "nbformat": 4,
 "nbformat_minor": 5
}
