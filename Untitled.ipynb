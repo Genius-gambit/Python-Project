{
 "cells": [
  {
   "cell_type": "code",
   "execution_count": 2,
   "id": "ded5c6cc-9309-4777-ac8e-f15a6aa5e792",
   "metadata": {},
   "outputs": [
    {
     "name": "stderr",
     "output_type": "stream",
     "text": [
      "usage: ipykernel_launcher.py [-h] file\n",
      "ipykernel_launcher.py: error: unrecognized arguments: -f\n"
     ]
    },
    {
     "ename": "SystemExit",
     "evalue": "2",
     "output_type": "error",
     "traceback": [
      "An exception has occurred, use %tb to see the full traceback.\n",
      "\u001b[0;31mSystemExit\u001b[0m\u001b[0;31m:\u001b[0m 2\n"
     ]
    }
   ],
   "source": [
    "import string\n",
    "import pandas as pd\n",
    "import argparse\n",
    "import json\n",
    "\n",
    "parser = argparse.ArgumentParser(description=\"Reading the valid Document\")\n",
    "parser.add_argument('file', type=str, help='reading')\n",
    "args = parser.parse_args()\n",
    "\n",
    "def\tread_data(file):\n",
    "\tfd = open(file, \"r\")\n",
    "\tdata = fd.read()\n",
    "\tfd.close()\n",
    "\treturn data\n",
    "\n",
    "def\tadd_my_dict(data):\n",
    "\tstring = \"\"\n",
    "\tcounter = 0\n",
    "\tli = []\n",
    "\tfor i in data:\n",
    "\t\tif i != '\\n':\n",
    "\t\t\tstring += string.join(i)\n",
    "\t\tif i == '\\n':\n",
    "\t\t\tif counter == 0:\n",
    "\t\t\t\tli = list(string.split(\"\\n\"))\n",
    "\t\t\t\tcounter = 1\n",
    "\t\t\t\tstring = \"\"\n",
    "\t\t\telse:\n",
    "\t\t\t\tli.extend(list(string.split(\"\\n\")))\n",
    "\t\t\t\tstring = \"\"\n",
    "\treturn li\n",
    "\n",
    "def main(file):\n",
    "\tdata = read_data(file)\n",
    "\tli = add_my_dict(data)\n",
    "\tstring = str(li[0])\n",
    "\t# my_dict = eval(string)\n",
    "\tprint(string)\n",
    "\t# print(my_dict)\n",
    "\t# print(li[1])\n",
    "\t# print(li[2])\n",
    "\t# string = add_my_dict(data)\n",
    "\t# my_dict = eval(string)\n",
    "\t# print(string)\n",
    "if __name__ == '__main__':\n",
    "\tmain(args.file)"
   ]
  },
  {
   "cell_type": "code",
   "execution_count": null,
   "id": "3640f7a0-cb36-4633-94ca-41e81fa68cd4",
   "metadata": {},
   "outputs": [],
   "source": []
  },
  {
   "cell_type": "code",
   "execution_count": null,
   "id": "1a689b13",
   "metadata": {},
   "outputs": [],
   "source": []
  }
 ],
 "metadata": {
  "kernelspec": {
   "display_name": "Python 3 (ipykernel)",
   "language": "python",
   "name": "python3"
  },
  "language_info": {
   "codemirror_mode": {
    "name": "ipython",
    "version": 3
   },
   "file_extension": ".py",
   "mimetype": "text/x-python",
   "name": "python",
   "nbconvert_exporter": "python",
   "pygments_lexer": "ipython3",
   "version": "3.8.10"
  }
 },
 "nbformat": 4,
 "nbformat_minor": 5
}
