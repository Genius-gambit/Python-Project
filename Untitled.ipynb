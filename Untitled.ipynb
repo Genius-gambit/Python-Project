{
 "cells": [
  {
   "cell_type": "code",
   "execution_count": 1,
   "id": "ded5c6cc-9309-4777-ac8e-f15a6aa5e792",
   "metadata": {},
   "outputs": [
    {
     "name": "stderr",
     "output_type": "stream",
     "text": [
      "usage: ipykernel_launcher.py [-h] file\n",
      "ipykernel_launcher.py: error: unrecognized arguments: -f\n"
     ]
    },
    {
     "ename": "SystemExit",
     "evalue": "2",
     "output_type": "error",
     "traceback": [
      "An exception has occurred, use %tb to see the full traceback.\n",
      "\u001b[0;31mSystemExit\u001b[0m\u001b[0;31m:\u001b[0m 2\n"
     ]
    },
    {
     "name": "stderr",
     "output_type": "stream",
     "text": [
      "/home/student42abudhabi/.local/lib/python3.8/site-packages/IPython/core/interactiveshell.py:3441: UserWarning: To exit: use 'exit', 'quit', or Ctrl-D.\n",
      "  warn(\"To exit: use 'exit', 'quit', or Ctrl-D.\", stacklevel=1)\n"
     ]
    }
   ],
   "source": [
    "import pandas as pd\n",
    "import argparse\n",
    "import json\n",
    "\n",
    "parser = argparse.ArgumentParser(description=\"Reading the valid Document\")\n",
    "parser.add_argument('file', type=str, help='reading')\n",
    "args = parser.parse_args()\n",
    "\n",
    "def\tread_data(file):\n",
    "\tfd = open(file)\n",
    "\tdata = json.load(fd)\n",
    "\tfor i in data[\"details\"]:\n",
    "\t\tprint(i)\n",
    "\tfd.close()\n",
    "\n",
    "def main(file):\n",
    "\tread(file)\n",
    "if __name__ == '__main__':\n",
    "\tmain(args.file)"
   ]
  },
  {
   "cell_type": "code",
   "execution_count": null,
   "id": "3640f7a0-cb36-4633-94ca-41e81fa68cd4",
   "metadata": {},
   "outputs": [],
   "source": []
  }
 ],
 "metadata": {
  "kernelspec": {
   "display_name": "Python 3 (ipykernel)",
   "language": "python",
   "name": "python3"
  },
  "language_info": {
   "codemirror_mode": {
    "name": "ipython",
    "version": 3
   },
   "file_extension": ".py",
   "mimetype": "text/x-python",
   "name": "python",
   "nbconvert_exporter": "python",
   "pygments_lexer": "ipython3",
   "version": "3.8.10"
  }
 },
 "nbformat": 4,
 "nbformat_minor": 5
}
